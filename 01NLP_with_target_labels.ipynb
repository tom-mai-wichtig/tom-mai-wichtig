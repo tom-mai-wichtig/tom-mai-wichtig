{
  "nbformat": 4,
  "nbformat_minor": 0,
  "metadata": {
    "colab": {
      "provenance": [],
      "gpuType": "T4",
      "authorship_tag": "ABX9TyPt5S32JMqFo87rBHfUhKc3",
      "include_colab_link": true
    },
    "kernelspec": {
      "name": "python3",
      "display_name": "Python 3"
    },
    "language_info": {
      "name": "python"
    },
    "accelerator": "GPU"
  },
  "cells": [
    {
      "cell_type": "markdown",
      "metadata": {
        "id": "view-in-github",
        "colab_type": "text"
      },
      "source": [
        "<a href=\"https://colab.research.google.com/github/tom-mai-wichtig/tom-mai-wichtig/blob/main/01NLP_with_target_labels.ipynb\" target=\"_parent\"><img src=\"https://colab.research.google.com/assets/colab-badge.svg\" alt=\"Open In Colab\"/></a>"
      ]
    },
    {
      "cell_type": "code",
      "execution_count": null,
      "metadata": {
        "id": "wpyqfnn2zkD8",
        "colab": {
          "base_uri": "https://localhost:8080/"
        },
        "outputId": "81ee4b25-a17f-43f1-e391-8901dceae76c"
      },
      "outputs": [
        {
          "output_type": "stream",
          "name": "stdout",
          "text": [
            "Fist reviews: bromwell high is a cartoon comedy . it ran at the same time as some other programs about school life  such as  teachers  . my   years in the teaching profession lead me to believe that bromwell high  s satire is much closer to reality than is  teachers  . the scramble to survive financially  the insightful students who can see right through their pathetic teachers  pomp  the pettiness of the whole situation  all remind me of the schools i knew and their students . when i saw the episode in which a student repeatedly tried to burn down the school  i immediately recalled . . . . . . . . . at . . . . . . . . . . high . a classic line inspector i  m here to sack one of your teachers . student welcome to bromwell high . i expect that many adults of my age think that bromwell high is far fetched . what a pity that it isn  t   \n",
            "Second reviews: story of a man who has unnatural feelings for a pig . starts out with a opening scene that is a terrific example of absurd comedy . a formal orchestra audience is turned into an insane  violent mob by the crazy chantings of it  s singers . unfortunately it stays absurd the whole time with no general narrative eventually making it just too off putting . even those from the era should be turned off . the cryptic dialogue would make shakespeare seem easy to a third grader . on a technical level it  s better than you might think with some good cinematography by future great vilmos zsigmond . future stars sally kirkland and frederic forrest can be seen briefly .  \n",
            "Lenth: 25000\n",
            "Last review: this is one of the dumbest films  i  ve ever seen . it rips off nearly ever type of thriller and manages to make a mess of them all .  br    br   there  s not a single good line or character in the whole mess . if there was a plot  it was an afterthought and as far as acting goes  there  s nothing good to say so ill say nothing . i honestly cant understand how this type of nonsense gets produced and actually released  does somebody somewhere not at some stage think   oh my god this really is a load of shite  and call it a day . its crap like this that has people downloading illegally  the trailer looks like a completely different film  at least if you have download it  you haven  t wasted your time or money don  t waste your time  this is painful .  \n",
            "Raw_reviews: ['bromwell high is a cartoon comedy . it ran at the same time as some other programs about school life  such as  teachers  . my   years in the teaching profession lead me to believe that bromwell high  s satire is much closer to reality than is  teachers  . the scramble to survive financially  the insightful students who can see right through their pathetic teachers  pomp  the pettiness of the whole situation  all remind me of the schools i knew and their students . when i saw the episode in which a student repeatedly tried to burn down the school  i immediately recalled . . . . . . . . . at . . . . . . . . . . high . a classic line inspector i  m here to sack one of your teachers . student welcome to bromwell high . i expect that many adults of my age think that bromwell high is far fetched . what a pity that it isn  t   ', 'story of a man who has unnatural feelings for a pig . starts out with a opening scene that is a terrific example of absurd comedy . a formal orchestra audience is turned into an insane  violent mob by the crazy chantings of it  s singers . unfortunately it stays absurd the whole time with no general narrative eventually making it just too off putting . even those from the era should be turned off . the cryptic dialogue would make shakespeare seem easy to a third grader . on a technical level it  s better than you might think with some good cinematography by future great vilmos zsigmond . future stars sally kirkland and frederic forrest can be seen briefly .  ']\n",
            "Lenth: 25000\n",
            "First labels: positive\n",
            "Secon labels: negative\n",
            "Last labels: negative\n"
          ]
        }
      ],
      "source": [
        "import base64\n",
        "import requests\n",
        "\n",
        "reviews = \"https://raw.githubusercontent.com/iamtrask/Grokking-Deep-Learning/master/reviews.txt\"\n",
        "raw_reviews = requests.get(reviews)\n",
        "raw_reviews = raw_reviews.text.split(\"\\n\")\n",
        "del raw_reviews[-1]\n",
        "print(f\"Fist reviews: {raw_reviews[0]}\")\n",
        "print(f\"Second reviews: {raw_reviews[1]}\")\n",
        "print(f\"Lenth: {len(raw_reviews)}\")\n",
        "print(f\"Last review: {raw_reviews[-1]}\")\n",
        "print(f\"Raw_reviews: {raw_reviews[:2]}\")\n",
        "\n",
        "labels = \"https://raw.githubusercontent.com/iamtrask/Grokking-Deep-Learning/master/labels.txt\"\n",
        "raw_labels = requests.get(labels)\n",
        "raw_labels = raw_labels.text\n",
        "raw_labels = raw_labels.split(\"\\n\")\n",
        "del raw_labels[-1]\n",
        "print(f\"Lenth: {len(raw_labels)}\")\n",
        "print(f\"First labels: {raw_labels[0]}\")\n",
        "print(f\"Secon labels: {raw_labels[1]}\")\n",
        "print(f\"Last labels: {raw_labels[-1]}\")\n",
        "\n"
      ]
    },
    {
      "cell_type": "markdown",
      "source": [],
      "metadata": {
        "id": "Dp_kTXZqoulm"
      }
    },
    {
      "cell_type": "code",
      "source": [
        "# spliting words in reviews\n",
        "#token = raw_reviews[0]\n",
        "#token = token.split(\" \")\n",
        "#print(len(token))\n",
        "#token = set(token)\n",
        "#print(len(token))\n",
        "#print(token)\n",
        "tokens = list(map(lambda x: set(x.split(\" \")), raw_reviews))\n",
        "\n",
        "#print(f\"\\n{token == tokens[0]}\")\n",
        "\n",
        "# list of vocabulary\n",
        "def vocab_list(tokens):\n",
        "    \"\"\"\n",
        "    Input: tokens\n",
        "    ex: today I ate two two Hamburger\n",
        "    Output: vocab list\n",
        "    ex: ['today', 'I', 'ate', 'two', 'Hamburger']\n",
        "    \"\"\"\n",
        "    vocab = set()\n",
        "    for sent in tokens:\n",
        "        for word in sent:\n",
        "            if (len(word)>0):\n",
        "                vocab.add(word)\n",
        "    return list(vocab)\n",
        "\n",
        "vocab = vocab_list(tokens)\n",
        "\n",
        "def converting_vocab_to_index(vocab):\n",
        "    \"\"\"\n",
        "    Input: vocab\n",
        "    ex: ['today', 'I', 'ate', 'two', 'Hamburger']\n",
        "    Output: word2index\n",
        "    ex: {'today': 0, 'I': 1, 'ate': 2, 'two': 3, 'Hamburger': 4}\n",
        "    \"\"\"\n",
        "    word2index = {}\n",
        "    for i, word in enumerate(vocab):\n",
        "        word2index[word] = i\n",
        "    return word2index\n",
        "\n",
        "word2index = converting_vocab_to_index(vocab)\n",
        "\n",
        "# building dataframe\n",
        "def converting_sent_to_list_number(tokens):\n",
        "    input_dataset = list()\n",
        "    for sent in tokens:\n",
        "        sent_in_number_form = list()\n",
        "        for word in sent:\n",
        "            if (len(word)>0):\n",
        "                sent_in_number_form.append(word)\n",
        "        input_dataset.append(sent_in_number_form)\n",
        "    return input_dataset\n",
        "\n",
        "print(input_dataset[0])\n",
        "print(f\"Lenth of first sentence: {len(input_dataset[0])}\")\n",
        "print(len(input_dataset[15]))\n",
        "target_dataset = list()\n",
        "for label in raw_labels:\n",
        "    if label == \"positive\":\n",
        "        target_dataset.append(1)\n",
        "    else:\n",
        "        target_dataset.append(0)\n",
        "print(raw_labels[:10])\n",
        "print(target_dataset[:10])\n",
        "\n",
        "\n",
        "\n"
      ],
      "metadata": {
        "id": "K288k8iu0Qul",
        "colab": {
          "base_uri": "https://localhost:8080/",
          "height": 218
        },
        "outputId": "2bee5209-d223-46a3-9137-78473a7435a6"
      },
      "execution_count": null,
      "outputs": [
        {
          "output_type": "error",
          "ename": "NameError",
          "evalue": "name 'input_dataset' is not defined",
          "traceback": [
            "\u001b[0;31m---------------------------------------------------------------------------\u001b[0m",
            "\u001b[0;31mNameError\u001b[0m                                 Traceback (most recent call last)",
            "\u001b[0;32m<ipython-input-2-c18003b5718b>\u001b[0m in \u001b[0;36m<cell line: 54>\u001b[0;34m()\u001b[0m\n\u001b[1;32m     52\u001b[0m     \u001b[0;32mreturn\u001b[0m \u001b[0minput_dataset\u001b[0m\u001b[0;34m\u001b[0m\u001b[0;34m\u001b[0m\u001b[0m\n\u001b[1;32m     53\u001b[0m \u001b[0;34m\u001b[0m\u001b[0m\n\u001b[0;32m---> 54\u001b[0;31m \u001b[0mprint\u001b[0m\u001b[0;34m(\u001b[0m\u001b[0minput_dataset\u001b[0m\u001b[0;34m[\u001b[0m\u001b[0;36m0\u001b[0m\u001b[0;34m]\u001b[0m\u001b[0;34m)\u001b[0m\u001b[0;34m\u001b[0m\u001b[0;34m\u001b[0m\u001b[0m\n\u001b[0m\u001b[1;32m     55\u001b[0m \u001b[0mprint\u001b[0m\u001b[0;34m(\u001b[0m\u001b[0;34mf\"Lenth of first sentence: {len(input_dataset[0])}\"\u001b[0m\u001b[0;34m)\u001b[0m\u001b[0;34m\u001b[0m\u001b[0;34m\u001b[0m\u001b[0m\n\u001b[1;32m     56\u001b[0m \u001b[0mprint\u001b[0m\u001b[0;34m(\u001b[0m\u001b[0mlen\u001b[0m\u001b[0;34m(\u001b[0m\u001b[0minput_dataset\u001b[0m\u001b[0;34m[\u001b[0m\u001b[0;36m15\u001b[0m\u001b[0;34m]\u001b[0m\u001b[0;34m)\u001b[0m\u001b[0;34m)\u001b[0m\u001b[0;34m\u001b[0m\u001b[0;34m\u001b[0m\u001b[0m\n",
            "\u001b[0;31mNameError\u001b[0m: name 'input_dataset' is not defined"
          ]
        }
      ]
    },
    {
      "cell_type": "code",
      "source": [
        "print(input_dataset[0])\n",
        "print(f\"Lenth of first sentence after converting to index: {len(input_dataset[0])}\")\n",
        "print(f\"Lenth of first sentence as raw words: {len(raw_reviews[0])}\")\n",
        "## len(raw_reviews) would print lenth of letters.\n",
        "print(raw_reviews[0])\n",
        "print(len(input_dataset[15]))"
      ],
      "metadata": {
        "id": "a9eqwBf_per9"
      },
      "execution_count": null,
      "outputs": []
    },
    {
      "cell_type": "code",
      "source": [
        "import numpy as np"
      ],
      "metadata": {
        "id": "ERhHzjS-0a6f"
      },
      "execution_count": null,
      "outputs": []
    },
    {
      "cell_type": "code",
      "source": [
        "np.random.seed(1)\n",
        "def sigmoid(x):\n",
        "    return (1/(1+ np.exp(-x)))\n",
        "def deri2sigmoid(out):\n",
        "    return out *(1-out)\n"
      ],
      "metadata": {
        "id": "yyp1cXc4o_6m"
      },
      "execution_count": null,
      "outputs": []
    },
    {
      "cell_type": "code",
      "source": [
        "alpha, iterations = (0.01,50)\n",
        "hidden_size=100\n",
        "\n",
        "w01 = 0.2* np.random.random((len(vocab), hidden_size))-.1\n",
        "w12 = 0.2* np.random.random((hidden_size, 1))-0.1\n",
        "#x = input_dataset[0]\n",
        "#li = [0,1,2]\n",
        "#print(len(li))\n",
        "#a = np.random.randint(0,10, size = (len(li),5))\n",
        "#print(a)\n",
        "#print(a[li])"
      ],
      "metadata": {
        "id": "WAg8X0tfcBKl"
      },
      "execution_count": null,
      "outputs": []
    },
    {
      "cell_type": "code",
      "source": [
        "\n",
        "for iter in range(iterations+1):\n",
        "    correct, total = (0,0)\n",
        "    for _ in range (len(input_dataset)-1000):\n",
        "        x, y = (input_dataset[_], target_dataset[_])\n",
        "        l_1 = sigmoid(np.sum(w01[x],axis=0))\n",
        "        drop_mask = np.random.randint(2, size = l_1.shape)\n",
        "        l_1*= drop_mask\n",
        "        l_2 = sigmoid (np.dot(l_1, w12))\n",
        "\n",
        "        del_2 = l_2 - y\n",
        "        del_1 = w12.dot(del_2)*deri2sigmoid(l_1)* drop_mask\n",
        "\n",
        "        w01[x] -=del_1 * alpha\n",
        "        w12 -= np.outer(l_1, del_2)*alpha\n",
        "\n",
        "        if (np.abs(l_2-y) <0.5):\n",
        "            correct += 1\n",
        "        total +=1\n",
        "    if (iter %10==0):\n",
        "        progress = _/float(len(input_dataset)-1000)\n",
        "        print(f\"\\rIter: {iter}\")\n",
        "        print(f\"Progress: {progress}\")\n",
        "        print(f\"Train_acc: {correct/total}\")\n",
        "\n",
        "        correct_test, total_test = (0,0)\n",
        "        for i in range( len(input_dataset)-1000, len(input_dataset)):\n",
        "            x = input_dataset[i]\n",
        "            y = target_dataset[i]\n",
        "\n",
        "            l_1 = sigmoid(np.sum(w01[x], axis=0))\n",
        "            l_2 = sigmoid(np.dot(l_1, w12))\n",
        "            if (np.abs(l_2 - y) <0.5):\n",
        "                correct_test+=1\n",
        "            total_test+=1\n",
        "        print(f\"Test_acc {correct_test/total_test}\")"
      ],
      "metadata": {
        "id": "p3BvTBa_cuDf"
      },
      "execution_count": null,
      "outputs": []
    },
    {
      "cell_type": "markdown",
      "source": [
        "Comparing word embedding"
      ],
      "metadata": {
        "id": "V5u-8WTB3PSF"
      }
    },
    {
      "cell_type": "code",
      "source": [
        "from collections import Counter\n",
        "import math"
      ],
      "metadata": {
        "id": "kUHMpn3Rr4to"
      },
      "execution_count": null,
      "outputs": []
    },
    {
      "cell_type": "code",
      "source": [
        "def similar(target='beautiful'):\n",
        "    target_index = word2index[target]\n",
        "    scores = Counter()\n",
        "    for word, index in word2index.items():\n",
        "        raw_diff = w01[index] - w01[target_index]\n",
        "        squarred_dif = raw_diff**2\n",
        "        scores[word] = -math.sqrt(sum(squarred_dif))\n",
        "    return scores.most_common(10)"
      ],
      "metadata": {
        "id": "jtDgEdrP3ZX5"
      },
      "execution_count": null,
      "outputs": []
    },
    {
      "cell_type": "code",
      "source": [
        "print(similar('beautiful'))"
      ],
      "metadata": {
        "id": "kJmPuxKB5UiK"
      },
      "execution_count": null,
      "outputs": []
    },
    {
      "cell_type": "code",
      "source": [
        "print(similar('terrible'))"
      ],
      "metadata": {
        "id": "Q_bSn_RD6DG_"
      },
      "execution_count": null,
      "outputs": []
    },
    {
      "cell_type": "code",
      "source": [
        "5+ \\\n",
        "3"
      ],
      "metadata": {
        "id": "vDLUGlmV6b03",
        "colab": {
          "base_uri": "https://localhost:8080/"
        },
        "outputId": "f6c37550-cb0b-4cb3-e495-578a13c735d3"
      },
      "execution_count": null,
      "outputs": [
        {
          "output_type": "execute_result",
          "data": {
            "text/plain": [
              "8"
            ]
          },
          "metadata": {},
          "execution_count": 6
        }
      ]
    }
  ]
}